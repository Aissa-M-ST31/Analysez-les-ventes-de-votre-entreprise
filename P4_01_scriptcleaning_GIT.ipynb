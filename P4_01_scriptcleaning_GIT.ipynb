{
 "cells": [
  {
   "cell_type": "markdown",
   "metadata": {},
   "source": [
    "# Projet_P4 : Analysez les ventes de votre entreprise"
   ]
  },
  {
   "cell_type": "markdown",
   "metadata": {},
   "source": [
    "## Script data cleaning"
   ]
  },
  {
   "cell_type": "code",
   "execution_count": 1,
   "metadata": {
    "ExecuteTime": {
     "end_time": "2021-10-04T10:40:04.983608Z",
     "start_time": "2021-10-04T10:39:55.766764Z"
    },
    "id": "dpp7upmRydZQ"
   },
   "outputs": [],
   "source": [
    "import numpy as np\n",
    "import pandas as pd\n",
    "import matplotlib\n",
    "import matplotlib.pyplot as plt\n",
    "import seaborn as sns\n",
    "import pylab \n",
    "from datetime import datetime\n",
    "import scipy.stats as stats\n",
    "from scipy import stats as st\n",
    "from scipy.stats import pearsonr\n",
    "%matplotlib inline\n",
    "# pip install pandas_profiling\n",
    "from pandas_profiling import ProfileReport\n",
    "import warnings\n",
    "warnings.filterwarnings('ignore')\n",
    "# pip install --upgrade pingouin\n",
    "import pingouin as pg\n",
    "# pip install researchpy\n",
    "import researchpy as rp\n",
    "import statsmodels.api as sm\n",
    "from statsmodels.formula.api import ols"
   ]
  },
  {
   "cell_type": "markdown",
   "metadata": {},
   "source": [
    "##### Téléchargement de tous les datasets"
   ]
  },
  {
   "cell_type": "code",
   "execution_count": 2,
   "metadata": {
    "ExecuteTime": {
     "end_time": "2021-10-04T10:40:07.041141Z",
     "start_time": "2021-10-04T10:40:04.986602Z"
    },
    "id": "DVKmbS0QydZV"
   },
   "outputs": [],
   "source": [
    "url = 'INPUTS_FORMATION/transactions.csv'\n",
    "data1 = pd.read_csv(url, sep=',',encoding='utf-8')\n",
    "df1 = data1.copy()\n",
    "\n",
    "url = 'INPUTS_FORMATION/customers.csv'\n",
    "data2 = pd.read_csv(url, sep=',',encoding='utf-8')\n",
    "df2 = data2.copy()\n",
    "\n",
    "url = 'INPUTS_FORMATION/products.csv'\n",
    "data3 = pd.read_csv(url, sep=',',encoding='utf-8')\n",
    "df3 = data3.copy()"
   ]
  },
  {
   "cell_type": "markdown",
   "metadata": {},
   "source": [
    "##### Pandas Profiling"
   ]
  },
  {
   "cell_type": "code",
   "execution_count": 3,
   "metadata": {
    "ExecuteTime": {
     "end_time": "2021-10-04T10:40:07.055835Z",
     "start_time": "2021-10-04T10:40:07.041141Z"
    }
   },
   "outputs": [],
   "source": [
    "# prof = ProfileReport(data1) #analyse du csv\n",
    "# prof.to_file(output_file='rapport_transactions.html')\n",
    "# prof = ProfileReport(data2) #analyse du csv\n",
    "# prof.to_file(output_file='rapport_customers.html')\n",
    "# prof = ProfileReport(data3) #analyse du csv\n",
    "# prof.to_file(output_file='rapport_products.html')"
   ]
  },
  {
   "cell_type": "markdown",
   "metadata": {},
   "source": [
    "##### Jointure des 3 datasest"
   ]
  },
  {
   "cell_type": "code",
   "execution_count": 4,
   "metadata": {
    "ExecuteTime": {
     "end_time": "2021-10-04T10:40:07.368995Z",
     "start_time": "2021-10-04T10:40:07.058825Z"
    }
   },
   "outputs": [
    {
     "data": {
      "text/html": [
       "<div>\n",
       "<style scoped>\n",
       "    .dataframe tbody tr th:only-of-type {\n",
       "        vertical-align: middle;\n",
       "    }\n",
       "\n",
       "    .dataframe tbody tr th {\n",
       "        vertical-align: top;\n",
       "    }\n",
       "\n",
       "    .dataframe thead th {\n",
       "        text-align: right;\n",
       "    }\n",
       "</style>\n",
       "<table border=\"1\" class=\"dataframe\">\n",
       "  <thead>\n",
       "    <tr style=\"text-align: right;\">\n",
       "      <th></th>\n",
       "      <th>id_prod</th>\n",
       "      <th>date</th>\n",
       "      <th>session_id</th>\n",
       "      <th>client_id</th>\n",
       "      <th>sex</th>\n",
       "      <th>birth</th>\n",
       "      <th>price</th>\n",
       "      <th>categ</th>\n",
       "    </tr>\n",
       "  </thead>\n",
       "  <tbody>\n",
       "    <tr>\n",
       "      <th>0</th>\n",
       "      <td>0_1483</td>\n",
       "      <td>2021-04-10 18:37:28.723910</td>\n",
       "      <td>s_18746</td>\n",
       "      <td>c_4450</td>\n",
       "      <td>f</td>\n",
       "      <td>1977</td>\n",
       "      <td>4.99</td>\n",
       "      <td>0.0</td>\n",
       "    </tr>\n",
       "    <tr>\n",
       "      <th>1</th>\n",
       "      <td>2_226</td>\n",
       "      <td>2022-02-03 01:55:53.276402</td>\n",
       "      <td>s_159142</td>\n",
       "      <td>c_277</td>\n",
       "      <td>f</td>\n",
       "      <td>2000</td>\n",
       "      <td>65.75</td>\n",
       "      <td>2.0</td>\n",
       "    </tr>\n",
       "    <tr>\n",
       "      <th>2</th>\n",
       "      <td>1_374</td>\n",
       "      <td>2021-09-23 15:13:46.938559</td>\n",
       "      <td>s_94290</td>\n",
       "      <td>c_4270</td>\n",
       "      <td>f</td>\n",
       "      <td>1979</td>\n",
       "      <td>10.71</td>\n",
       "      <td>1.0</td>\n",
       "    </tr>\n",
       "    <tr>\n",
       "      <th>3</th>\n",
       "      <td>0_2186</td>\n",
       "      <td>2021-10-17 03:27:18.783634</td>\n",
       "      <td>s_105936</td>\n",
       "      <td>c_4597</td>\n",
       "      <td>m</td>\n",
       "      <td>1963</td>\n",
       "      <td>4.20</td>\n",
       "      <td>0.0</td>\n",
       "    </tr>\n",
       "    <tr>\n",
       "      <th>4</th>\n",
       "      <td>0_1351</td>\n",
       "      <td>2021-07-17 20:34:25.800563</td>\n",
       "      <td>s_63642</td>\n",
       "      <td>c_1242</td>\n",
       "      <td>f</td>\n",
       "      <td>1980</td>\n",
       "      <td>8.99</td>\n",
       "      <td>0.0</td>\n",
       "    </tr>\n",
       "  </tbody>\n",
       "</table>\n",
       "</div>"
      ],
      "text/plain": [
       "  id_prod                        date session_id client_id sex  birth  price  \\\n",
       "0  0_1483  2021-04-10 18:37:28.723910    s_18746    c_4450   f   1977   4.99   \n",
       "1   2_226  2022-02-03 01:55:53.276402   s_159142     c_277   f   2000  65.75   \n",
       "2   1_374  2021-09-23 15:13:46.938559    s_94290    c_4270   f   1979  10.71   \n",
       "3  0_2186  2021-10-17 03:27:18.783634   s_105936    c_4597   m   1963   4.20   \n",
       "4  0_1351  2021-07-17 20:34:25.800563    s_63642    c_1242   f   1980   8.99   \n",
       "\n",
       "   categ  \n",
       "0    0.0  \n",
       "1    2.0  \n",
       "2    1.0  \n",
       "3    0.0  \n",
       "4    0.0  "
      ]
     },
     "execution_count": 4,
     "metadata": {},
     "output_type": "execute_result"
    }
   ],
   "source": [
    "# on aggrége toutes nos données\n",
    "table = pd.merge(df1, df2, how=\"left\", on=\"client_id\")\n",
    "table = pd.merge(table, df3, how=\"left\", on=\"id_prod\")\n",
    "table.head()"
   ]
  },
  {
   "cell_type": "markdown",
   "metadata": {},
   "source": [
    "##### Infos générales dataset"
   ]
  },
  {
   "cell_type": "code",
   "execution_count": 5,
   "metadata": {
    "ExecuteTime": {
     "end_time": "2021-10-04T10:40:07.540536Z",
     "start_time": "2021-10-04T10:40:07.372986Z"
    }
   },
   "outputs": [
    {
     "data": {
      "text/html": [
       "<div>\n",
       "<style scoped>\n",
       "    .dataframe tbody tr th:only-of-type {\n",
       "        vertical-align: middle;\n",
       "    }\n",
       "\n",
       "    .dataframe tbody tr th {\n",
       "        vertical-align: top;\n",
       "    }\n",
       "\n",
       "    .dataframe thead th {\n",
       "        text-align: right;\n",
       "    }\n",
       "</style>\n",
       "<table border=\"1\" class=\"dataframe\">\n",
       "  <thead>\n",
       "    <tr style=\"text-align: right;\">\n",
       "      <th></th>\n",
       "      <th>birth</th>\n",
       "      <th>price</th>\n",
       "      <th>categ</th>\n",
       "    </tr>\n",
       "  </thead>\n",
       "  <tbody>\n",
       "    <tr>\n",
       "      <th>count</th>\n",
       "      <td>337016.000000</td>\n",
       "      <td>336913.000000</td>\n",
       "      <td>336913.000000</td>\n",
       "    </tr>\n",
       "    <tr>\n",
       "      <th>mean</th>\n",
       "      <td>1977.837150</td>\n",
       "      <td>17.204376</td>\n",
       "      <td>0.429900</td>\n",
       "    </tr>\n",
       "    <tr>\n",
       "      <th>std</th>\n",
       "      <td>13.531686</td>\n",
       "      <td>17.855658</td>\n",
       "      <td>0.590999</td>\n",
       "    </tr>\n",
       "    <tr>\n",
       "      <th>min</th>\n",
       "      <td>1929.000000</td>\n",
       "      <td>-1.000000</td>\n",
       "      <td>0.000000</td>\n",
       "    </tr>\n",
       "    <tr>\n",
       "      <th>25%</th>\n",
       "      <td>1971.000000</td>\n",
       "      <td>8.580000</td>\n",
       "      <td>0.000000</td>\n",
       "    </tr>\n",
       "    <tr>\n",
       "      <th>50%</th>\n",
       "      <td>1980.000000</td>\n",
       "      <td>13.900000</td>\n",
       "      <td>0.000000</td>\n",
       "    </tr>\n",
       "    <tr>\n",
       "      <th>75%</th>\n",
       "      <td>1987.000000</td>\n",
       "      <td>18.990000</td>\n",
       "      <td>1.000000</td>\n",
       "    </tr>\n",
       "    <tr>\n",
       "      <th>max</th>\n",
       "      <td>2004.000000</td>\n",
       "      <td>300.000000</td>\n",
       "      <td>2.000000</td>\n",
       "    </tr>\n",
       "  </tbody>\n",
       "</table>\n",
       "</div>"
      ],
      "text/plain": [
       "               birth          price          categ\n",
       "count  337016.000000  336913.000000  336913.000000\n",
       "mean     1977.837150      17.204376       0.429900\n",
       "std        13.531686      17.855658       0.590999\n",
       "min      1929.000000      -1.000000       0.000000\n",
       "25%      1971.000000       8.580000       0.000000\n",
       "50%      1980.000000      13.900000       0.000000\n",
       "75%      1987.000000      18.990000       1.000000\n",
       "max      2004.000000     300.000000       2.000000"
      ]
     },
     "execution_count": 5,
     "metadata": {},
     "output_type": "execute_result"
    }
   ],
   "source": [
    "# on jette un oeil sur l'aspect général de notre dataset\n",
    "table.describe()"
   ]
  },
  {
   "cell_type": "code",
   "execution_count": 6,
   "metadata": {
    "ExecuteTime": {
     "end_time": "2021-10-04T10:40:07.586414Z",
     "start_time": "2021-10-04T10:40:07.542530Z"
    }
   },
   "outputs": [
    {
     "name": "stdout",
     "output_type": "stream",
     "text": [
      "achat min : -1.0 \n",
      "achat max : 300.0\n"
     ]
    },
    {
     "data": {
      "text/html": [
       "<div>\n",
       "<style scoped>\n",
       "    .dataframe tbody tr th:only-of-type {\n",
       "        vertical-align: middle;\n",
       "    }\n",
       "\n",
       "    .dataframe tbody tr th {\n",
       "        vertical-align: top;\n",
       "    }\n",
       "\n",
       "    .dataframe thead th {\n",
       "        text-align: right;\n",
       "    }\n",
       "</style>\n",
       "<table border=\"1\" class=\"dataframe\">\n",
       "  <thead>\n",
       "    <tr style=\"text-align: right;\">\n",
       "      <th></th>\n",
       "      <th>id_prod</th>\n",
       "      <th>date</th>\n",
       "      <th>session_id</th>\n",
       "      <th>client_id</th>\n",
       "      <th>sex</th>\n",
       "      <th>birth</th>\n",
       "      <th>price</th>\n",
       "      <th>categ</th>\n",
       "    </tr>\n",
       "  </thead>\n",
       "  <tbody>\n",
       "    <tr>\n",
       "      <th>1431</th>\n",
       "      <td>T_0</td>\n",
       "      <td>test_2021-03-01 02:30:02.237420</td>\n",
       "      <td>s_0</td>\n",
       "      <td>ct_1</td>\n",
       "      <td>m</td>\n",
       "      <td>2001</td>\n",
       "      <td>-1.0</td>\n",
       "      <td>0.0</td>\n",
       "    </tr>\n",
       "    <tr>\n",
       "      <th>2365</th>\n",
       "      <td>T_0</td>\n",
       "      <td>test_2021-03-01 02:30:02.237446</td>\n",
       "      <td>s_0</td>\n",
       "      <td>ct_1</td>\n",
       "      <td>m</td>\n",
       "      <td>2001</td>\n",
       "      <td>-1.0</td>\n",
       "      <td>0.0</td>\n",
       "    </tr>\n",
       "    <tr>\n",
       "      <th>2895</th>\n",
       "      <td>T_0</td>\n",
       "      <td>test_2021-03-01 02:30:02.237414</td>\n",
       "      <td>s_0</td>\n",
       "      <td>ct_1</td>\n",
       "      <td>m</td>\n",
       "      <td>2001</td>\n",
       "      <td>-1.0</td>\n",
       "      <td>0.0</td>\n",
       "    </tr>\n",
       "    <tr>\n",
       "      <th>5955</th>\n",
       "      <td>T_0</td>\n",
       "      <td>test_2021-03-01 02:30:02.237441</td>\n",
       "      <td>s_0</td>\n",
       "      <td>ct_0</td>\n",
       "      <td>f</td>\n",
       "      <td>2001</td>\n",
       "      <td>-1.0</td>\n",
       "      <td>0.0</td>\n",
       "    </tr>\n",
       "    <tr>\n",
       "      <th>7283</th>\n",
       "      <td>T_0</td>\n",
       "      <td>test_2021-03-01 02:30:02.237434</td>\n",
       "      <td>s_0</td>\n",
       "      <td>ct_1</td>\n",
       "      <td>m</td>\n",
       "      <td>2001</td>\n",
       "      <td>-1.0</td>\n",
       "      <td>0.0</td>\n",
       "    </tr>\n",
       "    <tr>\n",
       "      <th>...</th>\n",
       "      <td>...</td>\n",
       "      <td>...</td>\n",
       "      <td>...</td>\n",
       "      <td>...</td>\n",
       "      <td>...</td>\n",
       "      <td>...</td>\n",
       "      <td>...</td>\n",
       "      <td>...</td>\n",
       "    </tr>\n",
       "    <tr>\n",
       "      <th>332594</th>\n",
       "      <td>T_0</td>\n",
       "      <td>test_2021-03-01 02:30:02.237445</td>\n",
       "      <td>s_0</td>\n",
       "      <td>ct_0</td>\n",
       "      <td>f</td>\n",
       "      <td>2001</td>\n",
       "      <td>-1.0</td>\n",
       "      <td>0.0</td>\n",
       "    </tr>\n",
       "    <tr>\n",
       "      <th>332705</th>\n",
       "      <td>T_0</td>\n",
       "      <td>test_2021-03-01 02:30:02.237423</td>\n",
       "      <td>s_0</td>\n",
       "      <td>ct_1</td>\n",
       "      <td>m</td>\n",
       "      <td>2001</td>\n",
       "      <td>-1.0</td>\n",
       "      <td>0.0</td>\n",
       "    </tr>\n",
       "    <tr>\n",
       "      <th>332730</th>\n",
       "      <td>T_0</td>\n",
       "      <td>test_2021-03-01 02:30:02.237421</td>\n",
       "      <td>s_0</td>\n",
       "      <td>ct_1</td>\n",
       "      <td>m</td>\n",
       "      <td>2001</td>\n",
       "      <td>-1.0</td>\n",
       "      <td>0.0</td>\n",
       "    </tr>\n",
       "    <tr>\n",
       "      <th>333442</th>\n",
       "      <td>T_0</td>\n",
       "      <td>test_2021-03-01 02:30:02.237431</td>\n",
       "      <td>s_0</td>\n",
       "      <td>ct_1</td>\n",
       "      <td>m</td>\n",
       "      <td>2001</td>\n",
       "      <td>-1.0</td>\n",
       "      <td>0.0</td>\n",
       "    </tr>\n",
       "    <tr>\n",
       "      <th>335279</th>\n",
       "      <td>T_0</td>\n",
       "      <td>test_2021-03-01 02:30:02.237430</td>\n",
       "      <td>s_0</td>\n",
       "      <td>ct_0</td>\n",
       "      <td>f</td>\n",
       "      <td>2001</td>\n",
       "      <td>-1.0</td>\n",
       "      <td>0.0</td>\n",
       "    </tr>\n",
       "  </tbody>\n",
       "</table>\n",
       "<p>200 rows × 8 columns</p>\n",
       "</div>"
      ],
      "text/plain": [
       "       id_prod                             date session_id client_id sex  \\\n",
       "1431       T_0  test_2021-03-01 02:30:02.237420        s_0      ct_1   m   \n",
       "2365       T_0  test_2021-03-01 02:30:02.237446        s_0      ct_1   m   \n",
       "2895       T_0  test_2021-03-01 02:30:02.237414        s_0      ct_1   m   \n",
       "5955       T_0  test_2021-03-01 02:30:02.237441        s_0      ct_0   f   \n",
       "7283       T_0  test_2021-03-01 02:30:02.237434        s_0      ct_1   m   \n",
       "...        ...                              ...        ...       ...  ..   \n",
       "332594     T_0  test_2021-03-01 02:30:02.237445        s_0      ct_0   f   \n",
       "332705     T_0  test_2021-03-01 02:30:02.237423        s_0      ct_1   m   \n",
       "332730     T_0  test_2021-03-01 02:30:02.237421        s_0      ct_1   m   \n",
       "333442     T_0  test_2021-03-01 02:30:02.237431        s_0      ct_1   m   \n",
       "335279     T_0  test_2021-03-01 02:30:02.237430        s_0      ct_0   f   \n",
       "\n",
       "        birth  price  categ  \n",
       "1431     2001   -1.0    0.0  \n",
       "2365     2001   -1.0    0.0  \n",
       "2895     2001   -1.0    0.0  \n",
       "5955     2001   -1.0    0.0  \n",
       "7283     2001   -1.0    0.0  \n",
       "...       ...    ...    ...  \n",
       "332594   2001   -1.0    0.0  \n",
       "332705   2001   -1.0    0.0  \n",
       "332730   2001   -1.0    0.0  \n",
       "333442   2001   -1.0    0.0  \n",
       "335279   2001   -1.0    0.0  \n",
       "\n",
       "[200 rows x 8 columns]"
      ]
     },
     "execution_count": 6,
     "metadata": {},
     "output_type": "execute_result"
    }
   ],
   "source": [
    "# on affiche les bornes des achats ainsi que le dataset pour des valeurs d'achats < 0\n",
    "print('achat min :',table['price'].min(),'\\nachat max :',table['price'].max())\n",
    "invest1 = table.loc[(table['price']==-1)]\n",
    "invest1      "
   ]
  },
  {
   "cell_type": "code",
   "execution_count": 7,
   "metadata": {
    "ExecuteTime": {
     "end_time": "2021-10-04T10:40:07.967392Z",
     "start_time": "2021-10-04T10:40:07.589405Z"
    }
   },
   "outputs": [
    {
     "name": "stdout",
     "output_type": "stream",
     "text": [
      "NB of price negative values : 200\n",
      "NB of id_prod starting with T_ : 200\n",
      "\u001b[6;31;40m Matching between both families : True is unique value \u001b[0m\n",
      "id_prod         0\n",
      "date            0\n",
      "session_id      0\n",
      "client_id       0\n",
      "sex             0\n",
      "birth           0\n",
      "price         103\n",
      "categ         103\n",
      "dtype: int64\n"
     ]
    }
   ],
   "source": [
    "# on recherche tous les produits dont la désignation n'est pas conforme à l'ensemble (commençant par 'T_')\n",
    "invest2 = table.loc[(table['id_prod'].str.startswith('T_', na=False))]\n",
    "print('NB of price negative values :', len(table.loc[(table['price']==-1)]))           \n",
    "print('NB of id_prod starting with T_ :',len(table.loc[(table['id_prod'].str.startswith('T_', na=False))])) \n",
    "\n",
    "# on recherche une potentielle correspondance entre ces 2 'familles' \n",
    "invest1['idMatch?'] = np.where((invest1['client_id'] == invest2['client_id'])&(invest1['session_id'] == invest2['session_id']), 'True', 'False')\n",
    "print('\\x1b[6;31;40m','Matching between both families :',invest1['idMatch?'].iat[0],'is unique value','\\x1b[0m')   \n",
    "\n",
    "table_alt1 = table.copy()\n",
    "\n",
    "# on affiche les valeurs manquantes\n",
    "print(table_alt1.isnull().sum())"
   ]
  },
  {
   "cell_type": "markdown",
   "metadata": {},
   "source": [
    "## TRAITEMENT 1 (imputation par la médiane)"
   ]
  },
  {
   "cell_type": "markdown",
   "metadata": {},
   "source": [
    "##### VALEURS MANQUANTES  - TRAITEMENT 1 : imputation par la médiane"
   ]
  },
  {
   "cell_type": "code",
   "execution_count": 8,
   "metadata": {
    "ExecuteTime": {
     "end_time": "2021-10-04T10:40:07.983351Z",
     "start_time": "2021-10-04T10:40:07.969389Z"
    }
   },
   "outputs": [
    {
     "name": "stdout",
     "output_type": "stream",
     "text": [
      "\u001b[6;31;40m Id produit aux données manquantes : ['0_2245'] \u001b[0m\n"
     ]
    }
   ],
   "source": [
    "# on affiche le(s) produit(s) pour le(s)quel(s) nous n'avons pas de montant d'achat connu\n",
    "print('\\x1b[6;31;40m','Id produit aux données manquantes :',str(table_alt1.loc[table_alt1['price'].isnull(), 'id_prod'].unique().tolist()),'\\x1b[0m')           "
   ]
  },
  {
   "cell_type": "code",
   "execution_count": 9,
   "metadata": {
    "ExecuteTime": {
     "end_time": "2021-10-04T10:40:08.015264Z",
     "start_time": "2021-10-04T10:40:07.988337Z"
    }
   },
   "outputs": [],
   "source": [
    "# Imputation par la médiane [price]\n",
    "median = table_alt1['price'].median()\n",
    "table_alt1['price'].fillna(round(median,1), inplace=True) \n",
    "# Imputation par la valeur connue pour le produit identifié ['0_2245'] => categorie = 0\n",
    "cat0 = 0.0\n",
    "table_alt1['categ'].fillna(cat0, inplace=True)"
   ]
  },
  {
   "cell_type": "markdown",
   "metadata": {},
   "source": [
    "##### VALEURS ABERRANTES  - TRAITEMENT 1 : Suppressions des lignes à données aberrantes"
   ]
  },
  {
   "cell_type": "code",
   "execution_count": 10,
   "metadata": {
    "ExecuteTime": {
     "end_time": "2021-10-04T10:40:08.109014Z",
     "start_time": "2021-10-04T10:40:08.020272Z"
    }
   },
   "outputs": [
    {
     "name": "stdout",
     "output_type": "stream",
     "text": [
      "\u001b[6;31;40m SHAPE initiale : 337016 \u001b[0m\n",
      "\u001b[6;31;40m SHAPE finale   : 336816 \u001b[0m\n",
      "\u001b[6;31;40m Données supprimées : 0.06 % , 200 lignes aberrantes \u001b[0m\n"
     ]
    }
   ],
   "source": [
    "# on supprime les lignes où price < 0 (correspondant au label \"test\")\n",
    "shape_init = table.shape\n",
    "print('\\x1b[6;31;40m','SHAPE initiale :',str(shape_init[0]),'\\x1b[0m')           \n",
    "table_alt1.drop(table_alt1.loc[table_alt1['price']== -1 ].index, inplace=True)\n",
    "shape_fin= table_alt1.shape\n",
    "Delt = shape_init[0]-shape_fin[0]\n",
    "print('\\x1b[6;31;40m','SHAPE finale   :',str(shape_fin[0]),'\\x1b[0m')           \n",
    "print('\\x1b[6;31;40m','Données supprimées : %.2f' %(100*Delt/shape_init[0])+ \" % ,\",str(Delt),'lignes aberrantes','\\x1b[0m')  \n",
    "# table_alt1.head()"
   ]
  },
  {
   "cell_type": "markdown",
   "metadata": {},
   "source": [
    "##### Formatage colonnes date/heure (split)"
   ]
  },
  {
   "cell_type": "code",
   "execution_count": 11,
   "metadata": {
    "ExecuteTime": {
     "end_time": "2021-10-04T10:40:09.864659Z",
     "start_time": "2021-10-04T10:40:08.112031Z"
    }
   },
   "outputs": [],
   "source": [
    "# on split [date] -> [date] + [heure]\n",
    "table_alt1[['date', 'heure']] = table_alt1['date'].str.split(' ', n=1, expand=True)\n",
    "\n",
    "# on convertit & reformate\n",
    "table_alt1['date']  = pd.to_datetime(table_alt1['date'])    # conversion D en datetime\n",
    "table_alt1['heure'] = pd.to_timedelta(table_alt1['heure'])  # conversion H en timedelta\n",
    "table_alt1['heure'] = table_alt1['heure'].dt.floor('s')     # format secondes tronqué\n",
    "\n",
    "# on conserve seulement les colonnes suivantes\n",
    "table_alt1 = table_alt1[['id_prod','session_id','client_id','date','heure','sex','birth','categ','price']]\n",
    "\n",
    "# on crée des colonnes supplémentaires\n",
    "table_alt1['année'] = table_alt1['date'].dt.year\n",
    "table_alt1['mois']  = table_alt1['date'].dt.month\n",
    "table_alt1['age']   = 2022 - table_alt1['birth']\n",
    "# table_alt1.head()"
   ]
  },
  {
   "cell_type": "markdown",
   "metadata": {},
   "source": [
    "##### Export de la table"
   ]
  },
  {
   "cell_type": "code",
   "execution_count": 12,
   "metadata": {
    "ExecuteTime": {
     "end_time": "2021-10-04T10:40:18.242035Z",
     "start_time": "2021-10-04T10:40:09.866656Z"
    }
   },
   "outputs": [],
   "source": [
    "table_alt1.to_csv(\"OUTPUTS_FORMATION/P4_table_imputations_mediane.csv\", index = False)"
   ]
  },
  {
   "cell_type": "markdown",
   "metadata": {},
   "source": [
    "## TRAITEMENT 2 (imputation par la moyenne)"
   ]
  },
  {
   "cell_type": "markdown",
   "metadata": {},
   "source": [
    "##### VALEURS ABERRANTES  - TRAITEMENT 2 idem TRAITEMENT 1 (Suppression)"
   ]
  },
  {
   "cell_type": "code",
   "execution_count": 13,
   "metadata": {
    "ExecuteTime": {
     "end_time": "2021-10-04T10:40:18.336863Z",
     "start_time": "2021-10-04T10:40:18.242035Z"
    }
   },
   "outputs": [
    {
     "name": "stdout",
     "output_type": "stream",
     "text": [
      "\u001b[6;31;40m SHAPE initiale : 337016 \u001b[0m\n",
      "\u001b[6;31;40m SHAPE finale   : 336816 \u001b[0m\n",
      "\u001b[6;31;40m Données supprimées : 0.06 % , 200 lignes aberrantes \u001b[0m\n"
     ]
    }
   ],
   "source": [
    "table_alt2 = table.copy()\n",
    "\n",
    "# on supprime les lignes où price < 0 (correspondant au label \"test\")\n",
    "shape_init = table_alt2.shape\n",
    "print('\\x1b[6;31;40m','SHAPE initiale :',str(shape_init[0]),'\\x1b[0m')  \n",
    "shape_init= table_alt2.shape\n",
    "table_alt2.drop(table_alt2.loc[table_alt2['price']== -1 ].index, inplace=True)\n",
    "shape_fin= table_alt2.shape\n",
    "Delt = shape_init[0]-shape_fin[0]\n",
    "print('\\x1b[6;31;40m','SHAPE finale   :',str(shape_fin[0]),'\\x1b[0m')           \n",
    "print('\\x1b[6;31;40m','Données supprimées : %.2f' %(100*Delt/shape_init[0])+ \" % ,\",str(Delt),'lignes aberrantes','\\x1b[0m')  "
   ]
  },
  {
   "cell_type": "markdown",
   "metadata": {},
   "source": [
    "##### VALEURS MANQUANTES  - TRAITEMENT 2 : imputation par la moyenne"
   ]
  },
  {
   "cell_type": "code",
   "execution_count": 14,
   "metadata": {
    "ExecuteTime": {
     "end_time": "2021-10-04T10:40:18.352821Z",
     "start_time": "2021-10-04T10:40:18.338860Z"
    }
   },
   "outputs": [],
   "source": [
    "# Imputation par la moyenne [price]\n",
    "average = table_alt2['price'].mean()\n",
    "table_alt2['price'].fillna(round(average,1), inplace=True)\n",
    "# Imputation par la valeur connue pour le produit identifié ['0_2245'] => categorie = 0\n",
    "cat0 = 0.0\n",
    "table_alt2['categ'].fillna(cat0, inplace=True)"
   ]
  },
  {
   "cell_type": "code",
   "execution_count": 15,
   "metadata": {
    "ExecuteTime": {
     "end_time": "2021-10-04T10:40:18.368779Z",
     "start_time": "2021-10-04T10:40:18.357811Z"
    }
   },
   "outputs": [],
   "source": [
    "# IMPUTATION DANS LE CAS Où LA CATEG DU PRODUIT '0_2245' N'ETAIT PAS CONNUE\n",
    "# # on récupère les proportions du dataset par catégories\n",
    "# print('\\x1b[6;31;40m','Distri categ 0.0: %.0f' %(100*table_alt2['categ'].value_counts(normalize=True)[0]),'%','\\x1b[0m')   \n",
    "# print('\\x1b[6;31;40m','Distri categ 1.0: %.0f' %(100*table_alt2['categ'].value_counts(normalize=True)[1]),'%','\\x1b[0m')   \n",
    "# print('\\x1b[6;31;40m','Distri categ 2.0: %.0f' %(100*table_alt2['categ'].value_counts(normalize=True)[2]),'%','\\x1b[0m')   \n",
    "\n",
    "# # on travaille sur le df du produit identifié\n",
    "# df_imputation_unkprod = table_alt2[table_alt2['id_prod']=='0_2245']\n",
    "\n",
    "# # on impute les valeurs de catégories manquantes suivant cette répartition (nb rows => c0 : 64 , c1 : 34 , c2 : 5)\n",
    "# distribution = 64*[0.0]+34*[1.0]+5*[2.0]\n",
    "# df_imputation_unkprod.loc[:,'categ'] = distribution\n",
    "# df_imputation_unkprod.head()\n",
    "\n",
    "# # on revient au dataset global, on supprime et remplace avec les nouvelles imputations pour le produit identifié\n",
    "# table_alt2.drop(table_alt2.loc[table_alt2['id_prod']== '0_2245' ].index, inplace=True)\n",
    "\n",
    "# # on concatène les 2 datasets\n",
    "# frames = [table_alt2, df_imputation_unkprod]\n",
    "# table_alt2 = pd.concat(frames)"
   ]
  },
  {
   "cell_type": "markdown",
   "metadata": {},
   "source": [
    "##### Formatage colonnes date/heure (split)"
   ]
  },
  {
   "cell_type": "code",
   "execution_count": 16,
   "metadata": {
    "ExecuteTime": {
     "end_time": "2021-10-04T10:40:20.452569Z",
     "start_time": "2021-10-04T10:40:18.371771Z"
    }
   },
   "outputs": [],
   "source": [
    "# on renomme l'unique valeur [date] commençant par 'test_'\n",
    "table_alt2['date'] = table_alt2['date'].str.replace('test_2021-03-01' ,'2021-03-01')\n",
    "\n",
    "# on split [date] -> [date] + [heure]\n",
    "table_alt2[['date', 'heure']] = table_alt2['date'].str.split(' ', n=1, expand=True)\n",
    "\n",
    "# on convertit & reformate\n",
    "table_alt2['date']  = pd.to_datetime(table_alt2['date'])    # conversion D en datetime\n",
    "table_alt2['heure'] = pd.to_timedelta(table_alt2['heure'])  # conversion H en timedelta\n",
    "table_alt2['heure'] = table_alt2['heure'].dt.floor('s')     # format secondes tronqué\n",
    "\n",
    "# on conserve seulement les colonnes suivantes\n",
    "table_alt2 = table_alt2[['id_prod','session_id','client_id','date','heure','sex','birth','categ','price']]\n",
    "\n",
    "# on crée des colonnées supplémentaires\n",
    "table_alt2['année'] = table_alt2['date'].dt.year\n",
    "table_alt2['mois']  = table_alt2['date'].dt.month\n",
    "table_alt2['age']   = 2022 - table_alt2['birth']"
   ]
  },
  {
   "cell_type": "markdown",
   "metadata": {},
   "source": [
    "##### Export de la table"
   ]
  },
  {
   "cell_type": "code",
   "execution_count": 17,
   "metadata": {
    "ExecuteTime": {
     "end_time": "2021-10-04T10:40:29.947300Z",
     "start_time": "2021-10-04T10:40:20.452569Z"
    }
   },
   "outputs": [],
   "source": [
    "table_alt2.to_csv(\"OUTPUTS_FORMATION/P4_table_imputations_moyenne.csv\", index = False)"
   ]
  }
 ],
 "metadata": {
  "colab": {
   "collapsed_sections": [],
   "name": "Untitled4.ipynb",
   "provenance": []
  },
  "hide_input": false,
  "kernelspec": {
   "display_name": "Python 3 (ipykernel)",
   "language": "python",
   "name": "python3"
  },
  "language_info": {
   "codemirror_mode": {
    "name": "ipython",
    "version": 3
   },
   "file_extension": ".py",
   "mimetype": "text/x-python",
   "name": "python",
   "nbconvert_exporter": "python",
   "pygments_lexer": "ipython3",
   "version": "3.8.3"
  },
  "toc": {
   "base_numbering": 1,
   "nav_menu": {},
   "number_sections": true,
   "sideBar": true,
   "skip_h1_title": false,
   "title_cell": "Table of Contents",
   "title_sidebar": "Contents",
   "toc_cell": false,
   "toc_position": {},
   "toc_section_display": true,
   "toc_window_display": false
  }
 },
 "nbformat": 4,
 "nbformat_minor": 1
}
